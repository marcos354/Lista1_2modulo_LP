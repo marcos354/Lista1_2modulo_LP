{
  "nbformat": 4,
  "nbformat_minor": 0,
  "metadata": {
    "colab": {
      "name": "Marcos Gomes Fefe_Lopi - 211_LP_Funcao_ss.ipynb",
      "provenance": [],
      "collapsed_sections": [],
      "include_colab_link": true
    },
    "kernelspec": {
      "name": "python3",
      "display_name": "Python 3"
    }
  },
  "cells": [
    {
      "cell_type": "markdown",
      "metadata": {
        "id": "view-in-github",
        "colab_type": "text"
      },
      "source": [
        "<a href=\"https://colab.research.google.com/github/marcos354/Lista1_semparametro_semretorno_2modulo_LP/blob/main/Marcos_Gomes_Fefe_Lopi_211_LP_Funcao_ss.ipynb\" target=\"_parent\"><img src=\"https://colab.research.google.com/assets/colab-badge.svg\" alt=\"Open In Colab\"/></a>"
      ]
    },
    {
      "cell_type": "markdown",
      "metadata": {
        "id": "skN-Wz61xZzi"
      },
      "source": [
        "### 1. (Função sem retorno sem parâmetro) Faça um programa contendo uma função/método que apresente o valor 1 se o número digitado for positivo e 0 se for negativo."
      ]
    },
    {
      "cell_type": "code",
      "metadata": {
        "id": "Wbjafj_QxWP-",
        "colab": {
          "base_uri": "https://localhost:8080/"
        },
        "outputId": "72bd8e3f-eeba-4da8-b016-d9490d18dd5c"
      },
      "source": [
        "# Digite aqui seu código\n",
        "def posNeg ():\n",
        "  num = float(input(\"Digite um número:\"))\n",
        "  if num > 0:\n",
        "    print ('1')\n",
        "\n",
        "  else:\n",
        "    print ('0')\n",
        "\n",
        "def main ():\n",
        "  posNeg()\n",
        "main()"
      ],
      "execution_count": null,
      "outputs": [
        {
          "output_type": "stream",
          "text": [
            "Digite um número:-6\n",
            "0\n"
          ],
          "name": "stdout"
        }
      ]
    },
    {
      "cell_type": "markdown",
      "metadata": {
        "id": "0jPoba3-yLnG"
      },
      "source": [
        "### 2. (Função sem retorno sem parâmetro) Faça uma função/método que leia dois valores positivos e apresente a soma dos N números existentes entre eles (inclusive). \n",
        "    Exemplo: \n",
        "        a = 2\n",
        "        b = 8\n",
        "        soma = 35"
      ]
    },
    {
      "cell_type": "code",
      "metadata": {
        "id": "UHD2oMlJyLzc",
        "colab": {
          "base_uri": "https://localhost:8080/"
        },
        "outputId": "308d499b-1e2a-41c8-89c9-01c251a720c8"
      },
      "source": [
        "# Digite aqui seu código\n",
        "def acumular():\n",
        "    a = int(input('Informe um valor: '))\n",
        "    b = int(input('Informe outro valor: '))\n",
        "    soma = 0\n",
        "    while (a > 0 and b > 0) and a <= b:\n",
        "        soma = soma + a\n",
        "        a = a + 1\n",
        "    print('O resultado é', soma)\n",
        "    acumuladora = 0\n",
        "    if (a > 0 and b > 0) and a <= b:\n",
        "        for A in range(a,b+1):\n",
        "            acumuladora = acumuladora + A\n",
        "\n",
        "def main():\n",
        "    acumular()\n",
        "\n",
        "main()"
      ],
      "execution_count": null,
      "outputs": [
        {
          "output_type": "stream",
          "text": [
            "Informe um valor: 2\n",
            "Informe outro valor: 8\n",
            "O resultado é 35\n"
          ],
          "name": "stdout"
        }
      ]
    },
    {
      "cell_type": "markdown",
      "metadata": {
        "id": "HAz_eYfhzg06"
      },
      "source": [
        "### 3. (Função sem retorno sem parâmetro) Faça uma função/método que receba três números inteiros *a*, *b*, *c* que sejam divisíveis por ***a*** (inclusive *b* e *c*) e apresente a quantidade e os números divisíveis.\n",
        "    Exemplo:\n",
        "        a = 5\n",
        "        b = 1\n",
        "        c = 10\n",
        "        qtde = 2\n",
        "        Números divisíveis 5, 10"
      ]
    },
    {
      "cell_type": "code",
      "metadata": {
        "id": "Cg-NIjInzfmU",
        "colab": {
          "base_uri": "https://localhost:8080/"
        },
        "outputId": "42803cb0-d80c-46d6-b488-423c323a7e83"
      },
      "source": [
        "# Digite aqui seu código\n",
        "def divisivel():\n",
        "    a = int(input('Informe um valor para a: '))\n",
        "    b = int(input('Informe um valor para b: '))\n",
        "    c = int(input('Informe um valor para c: '))\n",
        "    qtde = 0\n",
        "    for B in range(b,c+1):\n",
        "        if B % a == 0:\n",
        "            qtde += 1\n",
        "            print('O número',B, ' é divisível por',a)\n",
        "    print('Quantidade de números divisíveis:',qtde)\n",
        "\n",
        "def main():\n",
        "    divisivel()\n",
        "\n",
        "main()\n"
      ],
      "execution_count": null,
      "outputs": [
        {
          "output_type": "stream",
          "text": [
            "Informe um valor para a: 6\n",
            "Informe um valor para b: 4\n",
            "Informe um valor para c: 3\n",
            "Quantidade de números divisíveis: 0\n"
          ],
          "name": "stdout"
        }
      ]
    },
    {
      "cell_type": "markdown",
      "metadata": {
        "id": "_aPd4c1b3OjS"
      },
      "source": [
        "### 4. (Função sem retorno sem parâmetro) Faça uma função/método que leia um único valor representado em segundos, converta-o e apresente o resultado em horas, minutos e segundos.\n",
        "    h = segundos / 3600\n",
        "    r = resto(segundos / 3600)\n",
        "    m = r / 60\n",
        "    s = resto(r / 60)\n",
        "    Observação 1: resto de uma divisão em Python %.\n",
        "    Observação 2: a hora, o minuto e o segundo devem ser apresentados como números inteiros. "
      ]
    },
    {
      "cell_type": "code",
      "metadata": {
        "id": "Q6LPIy_LCQuO",
        "colab": {
          "base_uri": "https://localhost:8080/"
        },
        "outputId": "2e5ada42-c689-4c3b-d258-7bafa7ab3cd3"
      },
      "source": [
        "# Digite aqui seu código\n",
        "\n",
        "def segundos():\n",
        "  seg = int(input(\"Digite a quantidade de segundos: \"))\n",
        "  h = seg / 3600\n",
        "  r = seg % 3600\n",
        "  m = r / 60\n",
        "  s = r % 60\n",
        "  print('A quantidade de horas: ', int (h))\n",
        "  print('A quantidade de minutos: ', int (m))\n",
        "  print(\"A quantidade de segundos: \", int (s))\n",
        "def main():\n",
        "  segundos()\n",
        "main()\n"
      ],
      "execution_count": null,
      "outputs": [
        {
          "output_type": "stream",
          "text": [
            "Digite a quantidade de segundos: 36000\n",
            "A quantidade de horas:  10\n",
            "A quantidade de minutos:  0\n",
            "A quantidade de segundos:  0\n"
          ],
          "name": "stdout"
        }
      ]
    },
    {
      "cell_type": "markdown",
      "metadata": {
        "id": "JgYwP3n1CQ_U"
      },
      "source": [
        "### 5. (Função sem retorno sem parâmetro) Faça uma função/método que receba o preço antigo e atual de um produto, determine o percentual de acréscimo entre esses valores e apresente-o.\n",
        "    r = (100 * preco_novo - 100 * preco_antigo) / preco_antigo"
      ]
    },
    {
      "cell_type": "code",
      "metadata": {
        "id": "fb6TwQ_yh_To",
        "colab": {
          "base_uri": "https://localhost:8080/"
        },
        "outputId": "237c47ca-4c28-48ac-b34c-a9550a2162ff"
      },
      "source": [
        "# Digite aqui seu código\n",
        "def percentual():\n",
        "  precoAntigo = float(input(\"Digite o preço antigo: \"))\n",
        "  precoNovo = float(input(\"Digite o preço novo: \"))\n",
        "  r = (100 * precoNovo - 100 * precoAntigo) / precoAntigo\n",
        "  print(\"O percentual de acréscimo entre os preços é: \",r)\n",
        "def main():\n",
        "  percentual()\n",
        "main()\n"
      ],
      "execution_count": null,
      "outputs": [
        {
          "output_type": "stream",
          "text": [
            "Digite o preço antigo: 100\n",
            "Digite o preço novo: 120\n",
            "O percentual de acréscimo entre os preços é:  20.0\n"
          ],
          "name": "stdout"
        }
      ]
    },
    {
      "cell_type": "markdown",
      "metadata": {
        "id": "fZNXRUrrh_g9"
      },
      "source": [
        "### 6. (Função sem retorno sem parâmetro) Faça uma função/método que leia um valor inteiro entre 1 e 9 e mostre a seguinte tabela de multiplicação\n",
        "    1    \n",
        "    2     4\n",
        "    3     6     9\n",
        "    4     8    12    16\n",
        "    5    10    15    20    25\n",
        "    6    12    18    24    30    36\n",
        "    7    14    21    28    35    42    49\n",
        "    8    16    24    32    40    48    56    64   \n",
        "    9    18    27    36    45    54    63    72    81\n",
        "    for i = 1 até n\n",
        "       for j = 1 até i\n",
        "       \n",
        "    Observação: configure o print para não pular linha"
      ]
    },
    {
      "cell_type": "code",
      "metadata": {
        "id": "qA3MK3i1lJ-B",
        "colab": {
          "base_uri": "https://localhost:8080/"
        },
        "outputId": "57f0396d-1ebf-4207-ad10-8be2eb870db5"
      },
      "source": [
        "def triangulo():\n",
        "  n = int(input('Digite um número: '))\n",
        "  for i in range(1,n+1):\n",
        "    for j in range(1,i+1):\n",
        "        m = j * i\n",
        "        print(m, end='\\t')\n",
        "    print()\n",
        "def main():\n",
        "  triangulo()\n",
        "main()\n"
      ],
      "execution_count": null,
      "outputs": [
        {
          "output_type": "stream",
          "text": [
            "Digite um número: 9\n",
            "1\t\n",
            "2\t4\t\n",
            "3\t6\t9\t\n",
            "4\t8\t12\t16\t\n",
            "5\t10\t15\t20\t25\t\n",
            "6\t12\t18\t24\t30\t36\t\n",
            "7\t14\t21\t28\t35\t42\t49\t\n",
            "8\t16\t24\t32\t40\t48\t56\t64\t\n",
            "9\t18\t27\t36\t45\t54\t63\t72\t81\t\n"
          ],
          "name": "stdout"
        }
      ]
    },
    {
      "cell_type": "markdown",
      "metadata": {
        "id": "qC3ghcOalLBi"
      },
      "source": [
        "### 7. (Função sem retorno sem parâmetro) Faça uma função/método que leia três notas de um aluno e uma letra, se a letra for igual a *A*, deverá calcular a média aritimética das notas dos alunos, se for *P*, deverá calcular a média ponderada, com pesos 5, 3 e 2. A média deve ser mostrada ao final."
      ]
    },
    {
      "cell_type": "code",
      "metadata": {
        "id": "73QPAAO0q2Wo",
        "colab": {
          "base_uri": "https://localhost:8080/"
        },
        "outputId": "f6790c5f-ad2a-48f8-9e5a-747a9c4e5e81"
      },
      "source": [
        "# Digite aqui seu código\n",
        "def media():\n",
        "    n1 = int(input(\"Digite a nota 1: \"))\n",
        "    n2 = int(input(\"Digite a nota 2: \"))\n",
        "    n3 = int(input(\"Digite a nota 3: \"))\n",
        "    letra = str(input(\"Digite A ou B para calcular a media: \"))\n",
        "    if letra == 'A':\n",
        "        mediaArit = (n1+n2+n3)/3\n",
        "        print(\"A média do aluno é: \",mediaArit)\n",
        "    else:\n",
        "        mediaPon = (n1*5 + n2*3 + n3*2) / 10\n",
        "        print(\"A média do aluno é: \", mediaPon)\n",
        "def main():\n",
        "  media()\n",
        "\n",
        "main()\n"
      ],
      "execution_count": null,
      "outputs": [
        {
          "output_type": "stream",
          "text": [
            "Digite a nota 1: 7\n",
            "Digite a nota 2: 8\n",
            "Digite a nota 3: 9\n",
            "Digite A ou B para calcular a media: A\n",
            "A média do aluno é:  8.0\n"
          ],
          "name": "stdout"
        }
      ]
    },
    {
      "cell_type": "markdown",
      "metadata": {
        "id": "Go_7xqNQq2oY"
      },
      "source": [
        "### 8. (Função sem retorno sem parâmetro) Faça uma função/método que leia uma hora de início e de término de um jogo, ambas divididas em dois valores distintos: hora e minuto. Deverá ser apresentado a duração expressa em minutos, considerando que o tempo máximo de duração de um jogo é de 24 horas e que ele pode começar em um dia e terminar no outro.\n",
        "    se m_f < m_i\n",
        "        m_f = m_f + 60\n",
        "        h_f = h_f - 1\n",
        "    se h_f < h_i\n",
        "        h_f = h_f + 24\n",
        "    tot_m = m_f - m_i\n",
        "    tot_h = h_f - h_i\n",
        "    total = tot_h * 60 + tot_m "
      ]
    },
    {
      "cell_type": "code",
      "metadata": {
        "id": "BgfVTL9-0WQi",
        "colab": {
          "base_uri": "https://localhost:8080/"
        },
        "outputId": "e6efb0c5-6bac-487e-a990-d9404ee97f6f"
      },
      "source": [
        "# Digite aqui seu código\n",
        "def minutos():\n",
        "    horaIni = int(input('Informe a hora inicial: '))\n",
        "    minutoIni = int(input('Informe o minuto inicial: '))\n",
        "    horaFin = int(input('Informe a hora final: '))\n",
        "    minutoFin = int(input(\"Informe o minuto final: \"))\n",
        "    if minutoFin < minutoIni:\n",
        "      minutoFin = minutoFin + 60\n",
        "      horaFin = horaFin - 1\n",
        "    if horaFin < horaIni:\n",
        "      horaFin = horaFin + 24\n",
        "    totalMin = minutoFin - minutoIni\n",
        "    totalHora = horaFin - horaIni\n",
        "    total = totalHora * 60 + totalMin\n",
        "    print(\"O total de\",total,\" minutos jogados.\")\n",
        "def main():\n",
        "  minutos()\n",
        "main()\n",
        "\n",
        "\n"
      ],
      "execution_count": null,
      "outputs": [
        {
          "output_type": "stream",
          "text": [
            "Informe a hora inicial: 18\n",
            "Informe o minuto inicial: 51\n",
            "Informe a hora final: 04\n",
            "Informe o minuto final: 23\n",
            "O total de 572  minutos jogados.\n"
          ],
          "name": "stdout"
        }
      ]
    },
    {
      "cell_type": "markdown",
      "metadata": {
        "id": "IGOQmdAe0myM"
      },
      "source": [
        "### 9. (Função sem retorno sem parâmetro) Faça uma função/método que leia cinco valores inteiros, determine e mostre o maior e o menor deles\n"
      ]
    },
    {
      "cell_type": "code",
      "metadata": {
        "id": "A4-CekXy0vrz",
        "colab": {
          "base_uri": "https://localhost:8080/"
        },
        "outputId": "0692ec23-3ae9-408e-938f-eb3e956e0d50"
      },
      "source": [
        "# Digite aqui seu código\n",
        "def maiorMenor():\n",
        "  maior = 0\n",
        "  menor = 0\n",
        "  for contador in range (5):\n",
        "    num = int(input(\"Digite um valor: \"))\n",
        "    if contador == 0:\n",
        "      maior = menor = num\n",
        "    else:\n",
        "       if num > maior:\n",
        "         maior = num\n",
        "       if num < menor:\n",
        "         menor = num \n",
        "  print(\"Maior número encontrado: \", maior)\n",
        "  print(\"Menor número encontrado: \", menor)\n",
        "def main():\n",
        "  maiorMenor()\n",
        "main()\n"
      ],
      "execution_count": null,
      "outputs": [
        {
          "output_type": "stream",
          "text": [
            "Digite um valor: 3\n",
            "Digite um valor: 2\n",
            "Digite um valor: 46\n",
            "Digite um valor: 7\n",
            "Digite um valor: 8\n",
            "Maior número encontrado:  46\n",
            "Menor número encontrado:  2\n"
          ],
          "name": "stdout"
        }
      ]
    },
    {
      "cell_type": "markdown",
      "metadata": {
        "id": "W2PqWZm20v6M"
      },
      "source": [
        "### 10. (Função sem retorno sem parâmetro) Faça uma função/método que leia um valor inteiro e positivo N e mostre o valor de S, obtido pelo seguinte cálculo: \n",
        "###S = 1  +  1/1!  +  1/2!  +  1/3!  + ... +  1/N!"
      ]
    },
    {
      "cell_type": "code",
      "metadata": {
        "id": "U9eTKxuz1c7S",
        "colab": {
          "base_uri": "https://localhost:8080/"
        },
        "outputId": "4839546a-4dd0-475b-b47e-d274a900418f"
      },
      "source": [
        "# Digite aqui seu código\n",
        "def calculoFatorial():\n",
        "  n = int(input(\"Digite um número: \"))\n",
        "  s = 1\n",
        "  for i in range(1,n+1):\n",
        "    fatorial = 1\n",
        "    while i > 1:\n",
        "      fatorial = fatorial * i\n",
        "      i = (i - 1)\n",
        "    s = s + 1 / fatorial\n",
        "  print(s)\n",
        "def main():\n",
        "  calculoFatorial()\n",
        "main()"
      ],
      "execution_count": 6,
      "outputs": [
        {
          "output_type": "stream",
          "text": [
            "Digite um número: 4\n",
            "2.708333333333333\n"
          ],
          "name": "stdout"
        }
      ]
    }
  ]
}